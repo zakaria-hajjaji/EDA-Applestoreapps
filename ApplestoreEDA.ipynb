{
  "nbformat": 4,
  "nbformat_minor": 0,
  "metadata": {
    "kernelspec": {
      "display_name": "Python 3",
      "language": "python",
      "name": "python3"
    },
    "language_info": {
      "codemirror_mode": {
        "name": "ipython",
        "version": 3
      },
      "file_extension": ".py",
      "mimetype": "text/x-python",
      "name": "python",
      "nbconvert_exporter": "python",
      "pygments_lexer": "ipython3",
      "version": "3.7.4"
    },
    "colab": {
      "name": "Untitled.ipynb",
      "provenance": []
    }
  },
  "cells": [
    {
      "cell_type": "code",
      "metadata": {
        "id": "7l4MlVhlwjZi"
      },
      "source": [
        "import pandas as pd\n",
        "from matplotlib import pyplot as plt"
      ],
      "execution_count": null,
      "outputs": []
    },
    {
      "cell_type": "code",
      "metadata": {
        "id": "T5SbZ8GHwjZp"
      },
      "source": [
        "from os import chdir\n",
        "chdir(\"C:/Users/DELL/Desktop\")"
      ],
      "execution_count": null,
      "outputs": []
    },
    {
      "cell_type": "code",
      "metadata": {
        "id": "UzKf0JfXwjZq"
      },
      "source": [
        "df = pd.read_table(\"AppleStore.csv\",sep = ',',header = 0)"
      ],
      "execution_count": null,
      "outputs": []
    },
    {
      "cell_type": "code",
      "metadata": {
        "id": "cU27lndJwjZr",
        "outputId": "9264bd05-04f6-4fb8-d1a6-f70d4875221e"
      },
      "source": [
        "df.head()"
      ],
      "execution_count": null,
      "outputs": [
        {
          "output_type": "execute_result",
          "data": {
            "text/html": [
              "<div>\n",
              "<style scoped>\n",
              "    .dataframe tbody tr th:only-of-type {\n",
              "        vertical-align: middle;\n",
              "    }\n",
              "\n",
              "    .dataframe tbody tr th {\n",
              "        vertical-align: top;\n",
              "    }\n",
              "\n",
              "    .dataframe thead th {\n",
              "        text-align: right;\n",
              "    }\n",
              "</style>\n",
              "<table border=\"1\" class=\"dataframe\">\n",
              "  <thead>\n",
              "    <tr style=\"text-align: right;\">\n",
              "      <th></th>\n",
              "      <th>Unnamed: 0</th>\n",
              "      <th>id</th>\n",
              "      <th>track_name</th>\n",
              "      <th>size_bytes</th>\n",
              "      <th>currency</th>\n",
              "      <th>price</th>\n",
              "      <th>rating_count_tot</th>\n",
              "      <th>rating_count_ver</th>\n",
              "      <th>user_rating</th>\n",
              "      <th>user_rating_ver</th>\n",
              "      <th>ver</th>\n",
              "      <th>cont_rating</th>\n",
              "      <th>prime_genre</th>\n",
              "      <th>sup_devices.num</th>\n",
              "      <th>ipadSc_urls.num</th>\n",
              "      <th>lang.num</th>\n",
              "      <th>vpp_lic</th>\n",
              "    </tr>\n",
              "  </thead>\n",
              "  <tbody>\n",
              "    <tr>\n",
              "      <td>0</td>\n",
              "      <td>1</td>\n",
              "      <td>281656475</td>\n",
              "      <td>PAC-MAN Premium</td>\n",
              "      <td>100788224</td>\n",
              "      <td>USD</td>\n",
              "      <td>3.99</td>\n",
              "      <td>21292</td>\n",
              "      <td>26</td>\n",
              "      <td>4.0</td>\n",
              "      <td>4.5</td>\n",
              "      <td>6.3.5</td>\n",
              "      <td>4+</td>\n",
              "      <td>Games</td>\n",
              "      <td>38</td>\n",
              "      <td>5</td>\n",
              "      <td>10</td>\n",
              "      <td>1</td>\n",
              "    </tr>\n",
              "    <tr>\n",
              "      <td>1</td>\n",
              "      <td>2</td>\n",
              "      <td>281796108</td>\n",
              "      <td>Evernote - stay organized</td>\n",
              "      <td>158578688</td>\n",
              "      <td>USD</td>\n",
              "      <td>0.00</td>\n",
              "      <td>161065</td>\n",
              "      <td>26</td>\n",
              "      <td>4.0</td>\n",
              "      <td>3.5</td>\n",
              "      <td>8.2.2</td>\n",
              "      <td>4+</td>\n",
              "      <td>Productivity</td>\n",
              "      <td>37</td>\n",
              "      <td>5</td>\n",
              "      <td>23</td>\n",
              "      <td>1</td>\n",
              "    </tr>\n",
              "    <tr>\n",
              "      <td>2</td>\n",
              "      <td>3</td>\n",
              "      <td>281940292</td>\n",
              "      <td>WeatherBug - Local Weather, Radar, Maps, Alerts</td>\n",
              "      <td>100524032</td>\n",
              "      <td>USD</td>\n",
              "      <td>0.00</td>\n",
              "      <td>188583</td>\n",
              "      <td>2822</td>\n",
              "      <td>3.5</td>\n",
              "      <td>4.5</td>\n",
              "      <td>5.0.0</td>\n",
              "      <td>4+</td>\n",
              "      <td>Weather</td>\n",
              "      <td>37</td>\n",
              "      <td>5</td>\n",
              "      <td>3</td>\n",
              "      <td>1</td>\n",
              "    </tr>\n",
              "    <tr>\n",
              "      <td>3</td>\n",
              "      <td>4</td>\n",
              "      <td>282614216</td>\n",
              "      <td>eBay: Best App to Buy, Sell, Save! Online Shop...</td>\n",
              "      <td>128512000</td>\n",
              "      <td>USD</td>\n",
              "      <td>0.00</td>\n",
              "      <td>262241</td>\n",
              "      <td>649</td>\n",
              "      <td>4.0</td>\n",
              "      <td>4.5</td>\n",
              "      <td>5.10.0</td>\n",
              "      <td>12+</td>\n",
              "      <td>Shopping</td>\n",
              "      <td>37</td>\n",
              "      <td>5</td>\n",
              "      <td>9</td>\n",
              "      <td>1</td>\n",
              "    </tr>\n",
              "    <tr>\n",
              "      <td>4</td>\n",
              "      <td>5</td>\n",
              "      <td>282935706</td>\n",
              "      <td>Bible</td>\n",
              "      <td>92774400</td>\n",
              "      <td>USD</td>\n",
              "      <td>0.00</td>\n",
              "      <td>985920</td>\n",
              "      <td>5320</td>\n",
              "      <td>4.5</td>\n",
              "      <td>5.0</td>\n",
              "      <td>7.5.1</td>\n",
              "      <td>4+</td>\n",
              "      <td>Reference</td>\n",
              "      <td>37</td>\n",
              "      <td>5</td>\n",
              "      <td>45</td>\n",
              "      <td>1</td>\n",
              "    </tr>\n",
              "  </tbody>\n",
              "</table>\n",
              "</div>"
            ],
            "text/plain": [
              "   Unnamed: 0         id                                         track_name  \\\n",
              "0           1  281656475                                    PAC-MAN Premium   \n",
              "1           2  281796108                          Evernote - stay organized   \n",
              "2           3  281940292    WeatherBug - Local Weather, Radar, Maps, Alerts   \n",
              "3           4  282614216  eBay: Best App to Buy, Sell, Save! Online Shop...   \n",
              "4           5  282935706                                              Bible   \n",
              "\n",
              "   size_bytes currency  price  rating_count_tot  rating_count_ver  \\\n",
              "0   100788224      USD   3.99             21292                26   \n",
              "1   158578688      USD   0.00            161065                26   \n",
              "2   100524032      USD   0.00            188583              2822   \n",
              "3   128512000      USD   0.00            262241               649   \n",
              "4    92774400      USD   0.00            985920              5320   \n",
              "\n",
              "   user_rating  user_rating_ver     ver cont_rating   prime_genre  \\\n",
              "0          4.0              4.5   6.3.5          4+         Games   \n",
              "1          4.0              3.5   8.2.2          4+  Productivity   \n",
              "2          3.5              4.5   5.0.0          4+       Weather   \n",
              "3          4.0              4.5  5.10.0         12+      Shopping   \n",
              "4          4.5              5.0   7.5.1          4+     Reference   \n",
              "\n",
              "   sup_devices.num  ipadSc_urls.num  lang.num  vpp_lic  \n",
              "0               38                5        10        1  \n",
              "1               37                5        23        1  \n",
              "2               37                5         3        1  \n",
              "3               37                5         9        1  \n",
              "4               37                5        45        1  "
            ]
          },
          "metadata": {
            "tags": []
          },
          "execution_count": 7
        }
      ]
    },
    {
      "cell_type": "code",
      "metadata": {
        "scrolled": true,
        "id": "y2j-Tl3gwjZu",
        "outputId": "1f1d9b56-c31e-40bb-b4b0-d7fdcaf91fe4"
      },
      "source": [
        "df.tail()"
      ],
      "execution_count": null,
      "outputs": [
        {
          "output_type": "execute_result",
          "data": {
            "text/html": [
              "<div>\n",
              "<style scoped>\n",
              "    .dataframe tbody tr th:only-of-type {\n",
              "        vertical-align: middle;\n",
              "    }\n",
              "\n",
              "    .dataframe tbody tr th {\n",
              "        vertical-align: top;\n",
              "    }\n",
              "\n",
              "    .dataframe thead th {\n",
              "        text-align: right;\n",
              "    }\n",
              "</style>\n",
              "<table border=\"1\" class=\"dataframe\">\n",
              "  <thead>\n",
              "    <tr style=\"text-align: right;\">\n",
              "      <th></th>\n",
              "      <th>Unnamed: 0</th>\n",
              "      <th>id</th>\n",
              "      <th>track_name</th>\n",
              "      <th>size_bytes</th>\n",
              "      <th>currency</th>\n",
              "      <th>price</th>\n",
              "      <th>rating_count_tot</th>\n",
              "      <th>rating_count_ver</th>\n",
              "      <th>user_rating</th>\n",
              "      <th>user_rating_ver</th>\n",
              "      <th>ver</th>\n",
              "      <th>cont_rating</th>\n",
              "      <th>prime_genre</th>\n",
              "      <th>sup_devices.num</th>\n",
              "      <th>ipadSc_urls.num</th>\n",
              "      <th>lang.num</th>\n",
              "      <th>vpp_lic</th>\n",
              "    </tr>\n",
              "  </thead>\n",
              "  <tbody>\n",
              "    <tr>\n",
              "      <td>7192</td>\n",
              "      <td>11081</td>\n",
              "      <td>1187617475</td>\n",
              "      <td>Kubik</td>\n",
              "      <td>126644224</td>\n",
              "      <td>USD</td>\n",
              "      <td>0.00</td>\n",
              "      <td>142</td>\n",
              "      <td>75</td>\n",
              "      <td>4.5</td>\n",
              "      <td>4.5</td>\n",
              "      <td>1.3</td>\n",
              "      <td>4+</td>\n",
              "      <td>Games</td>\n",
              "      <td>38</td>\n",
              "      <td>5</td>\n",
              "      <td>1</td>\n",
              "      <td>1</td>\n",
              "    </tr>\n",
              "    <tr>\n",
              "      <td>7193</td>\n",
              "      <td>11082</td>\n",
              "      <td>1187682390</td>\n",
              "      <td>VR Roller-Coaster</td>\n",
              "      <td>120760320</td>\n",
              "      <td>USD</td>\n",
              "      <td>0.00</td>\n",
              "      <td>30</td>\n",
              "      <td>30</td>\n",
              "      <td>4.5</td>\n",
              "      <td>4.5</td>\n",
              "      <td>0.9</td>\n",
              "      <td>4+</td>\n",
              "      <td>Games</td>\n",
              "      <td>38</td>\n",
              "      <td>0</td>\n",
              "      <td>1</td>\n",
              "      <td>1</td>\n",
              "    </tr>\n",
              "    <tr>\n",
              "      <td>7194</td>\n",
              "      <td>11087</td>\n",
              "      <td>1187779532</td>\n",
              "      <td>Bret Michaels Emojis + Lyric Keyboard</td>\n",
              "      <td>111322112</td>\n",
              "      <td>USD</td>\n",
              "      <td>1.99</td>\n",
              "      <td>15</td>\n",
              "      <td>0</td>\n",
              "      <td>4.5</td>\n",
              "      <td>0.0</td>\n",
              "      <td>1.0.2</td>\n",
              "      <td>9+</td>\n",
              "      <td>Utilities</td>\n",
              "      <td>37</td>\n",
              "      <td>1</td>\n",
              "      <td>1</td>\n",
              "      <td>1</td>\n",
              "    </tr>\n",
              "    <tr>\n",
              "      <td>7195</td>\n",
              "      <td>11089</td>\n",
              "      <td>1187838770</td>\n",
              "      <td>VR Roller Coaster World - Virtual Reality</td>\n",
              "      <td>97235968</td>\n",
              "      <td>USD</td>\n",
              "      <td>0.00</td>\n",
              "      <td>85</td>\n",
              "      <td>32</td>\n",
              "      <td>4.5</td>\n",
              "      <td>4.5</td>\n",
              "      <td>1.0.15</td>\n",
              "      <td>12+</td>\n",
              "      <td>Games</td>\n",
              "      <td>38</td>\n",
              "      <td>0</td>\n",
              "      <td>2</td>\n",
              "      <td>1</td>\n",
              "    </tr>\n",
              "    <tr>\n",
              "      <td>7196</td>\n",
              "      <td>11097</td>\n",
              "      <td>1188375727</td>\n",
              "      <td>Escape the Sweet Shop Series</td>\n",
              "      <td>90898432</td>\n",
              "      <td>USD</td>\n",
              "      <td>0.00</td>\n",
              "      <td>3</td>\n",
              "      <td>3</td>\n",
              "      <td>5.0</td>\n",
              "      <td>5.0</td>\n",
              "      <td>1.0</td>\n",
              "      <td>4+</td>\n",
              "      <td>Games</td>\n",
              "      <td>40</td>\n",
              "      <td>0</td>\n",
              "      <td>2</td>\n",
              "      <td>1</td>\n",
              "    </tr>\n",
              "  </tbody>\n",
              "</table>\n",
              "</div>"
            ],
            "text/plain": [
              "      Unnamed: 0          id                                 track_name  \\\n",
              "7192       11081  1187617475                                      Kubik   \n",
              "7193       11082  1187682390                          VR Roller-Coaster   \n",
              "7194       11087  1187779532      Bret Michaels Emojis + Lyric Keyboard   \n",
              "7195       11089  1187838770  VR Roller Coaster World - Virtual Reality   \n",
              "7196       11097  1188375727               Escape the Sweet Shop Series   \n",
              "\n",
              "      size_bytes currency  price  rating_count_tot  rating_count_ver  \\\n",
              "7192   126644224      USD   0.00               142                75   \n",
              "7193   120760320      USD   0.00                30                30   \n",
              "7194   111322112      USD   1.99                15                 0   \n",
              "7195    97235968      USD   0.00                85                32   \n",
              "7196    90898432      USD   0.00                 3                 3   \n",
              "\n",
              "      user_rating  user_rating_ver     ver cont_rating prime_genre  \\\n",
              "7192          4.5              4.5     1.3          4+       Games   \n",
              "7193          4.5              4.5     0.9          4+       Games   \n",
              "7194          4.5              0.0   1.0.2          9+   Utilities   \n",
              "7195          4.5              4.5  1.0.15         12+       Games   \n",
              "7196          5.0              5.0     1.0          4+       Games   \n",
              "\n",
              "      sup_devices.num  ipadSc_urls.num  lang.num  vpp_lic  \n",
              "7192               38                5         1        1  \n",
              "7193               38                0         1        1  \n",
              "7194               37                1         1        1  \n",
              "7195               38                0         2        1  \n",
              "7196               40                0         2        1  "
            ]
          },
          "metadata": {
            "tags": []
          },
          "execution_count": 8
        }
      ]
    },
    {
      "cell_type": "code",
      "metadata": {
        "id": "bG7XcwU5wjZv",
        "outputId": "4a108f72-2616-42a6-90aa-c5be97525647"
      },
      "source": [
        "df.shape"
      ],
      "execution_count": null,
      "outputs": [
        {
          "output_type": "execute_result",
          "data": {
            "text/plain": [
              "(7197, 17)"
            ]
          },
          "metadata": {
            "tags": []
          },
          "execution_count": 12
        }
      ]
    },
    {
      "cell_type": "code",
      "metadata": {
        "id": "0PrichNbwjZw",
        "outputId": "7674f1c8-977e-46e1-f908-dc549e300b85"
      },
      "source": [
        "print(df.info())"
      ],
      "execution_count": null,
      "outputs": [
        {
          "output_type": "stream",
          "text": [
            "<class 'pandas.core.frame.DataFrame'>\n",
            "RangeIndex: 7197 entries, 0 to 7196\n",
            "Data columns (total 17 columns):\n",
            "Unnamed: 0          7197 non-null int64\n",
            "id                  7197 non-null int64\n",
            "track_name          7197 non-null object\n",
            "size_bytes          7197 non-null int64\n",
            "currency            7197 non-null object\n",
            "price               7197 non-null float64\n",
            "rating_count_tot    7197 non-null int64\n",
            "rating_count_ver    7197 non-null int64\n",
            "user_rating         7197 non-null float64\n",
            "user_rating_ver     7197 non-null float64\n",
            "ver                 7197 non-null object\n",
            "cont_rating         7197 non-null object\n",
            "prime_genre         7197 non-null object\n",
            "sup_devices.num     7197 non-null int64\n",
            "ipadSc_urls.num     7197 non-null int64\n",
            "lang.num            7197 non-null int64\n",
            "vpp_lic             7197 non-null int64\n",
            "dtypes: float64(3), int64(9), object(5)\n",
            "memory usage: 956.0+ KB\n",
            "None\n"
          ],
          "name": "stdout"
        }
      ]
    },
    {
      "cell_type": "code",
      "metadata": {
        "id": "5axKWLHywjZw",
        "outputId": "3f9f2fa5-2edc-45c2-cad6-c16cb1aa0ff6"
      },
      "source": [
        "print(df.sort_values(by='price').head())"
      ],
      "execution_count": null,
      "outputs": [
        {
          "output_type": "stream",
          "text": [
            "      Unnamed: 0          id                                    track_name  \\\n",
            "7196       11097  1188375727                  Escape the Sweet Shop Series   \n",
            "3483        4225   968666409                                      Robocide   \n",
            "3481        4223   968433730  Adobe Spark Page — Create Stunning Web Pages   \n",
            "3480        4220   968213298                           Bike Race Level 100   \n",
            "3479        4219   968016877                                   Winterstate   \n",
            "\n",
            "      size_bytes currency  price  rating_count_tot  rating_count_ver  \\\n",
            "7196    90898432      USD    0.0                 3                 3   \n",
            "3483   243791872      USD    0.0               599               180   \n",
            "3481   120110080      USD    0.0              2528                80   \n",
            "3480    98312192      USD    0.0                 1                 1   \n",
            "3479   148738048      USD    0.0               108               108   \n",
            "\n",
            "      user_rating  user_rating_ver     ver cont_rating   prime_genre  \\\n",
            "7196          5.0              5.0     1.0          4+         Games   \n",
            "3483          4.5              4.5  1.16.3          9+         Games   \n",
            "3481          4.5              4.5   1.6.4          4+  Productivity   \n",
            "3480          5.0              5.0   1.7.1          9+         Games   \n",
            "3479          3.5              3.5   1.5.1          9+         Games   \n",
            "\n",
            "      sup_devices.num  ipadSc_urls.num  lang.num  vpp_lic  \n",
            "7196               40                0         2        1  \n",
            "3483               38                5         8        1  \n",
            "3481               37                5         1        1  \n",
            "3480               40                5         2        1  \n",
            "3479               38                5         8        1  \n"
          ],
          "name": "stdout"
        }
      ]
    },
    {
      "cell_type": "code",
      "metadata": {
        "id": "efFxq8KXwjZx",
        "outputId": "a244092d-e11c-430c-bdca-b5fd20dfdda4"
      },
      "source": [
        "plt.style.use('seaborn-white')\n",
        "plt.scatter(df['size_bytes'],df['price'])\n",
        "plt.title('Taille vs Prix')\n",
        "plt.xlabel('Taille(Bytes)')\n",
        "plt.ylabel('Prix')\n",
        "plt.xlim(0)\n",
        "_ = plt.ylim(0)\n"
      ],
      "execution_count": null,
      "outputs": [
        {
          "output_type": "display_data",
          "data": {
            "image/png": "[encoded data removed]",
            "text/plain": [
              "<Figure size 432x288 with 1 Axes>"
            ]
          },
          "metadata": {
            "tags": []
          }
        }
      ]
    },
    {
      "cell_type": "code",
      "metadata": {
        "id": "JpU9GNI1wjZy",
        "outputId": "17c91814-9df2-49b9-9cd9-181650a4b9e5"
      },
      "source": [
        "df[(df.rating_count_tot > 100000) & (df.prime_genre == 'Games') & (df.price > 0)][['track_name','rating_count_tot','user_rating']].sort_values('rating_count_tot', ascending=0)"
      ],
      "execution_count": null,
      "outputs": [
        {
          "output_type": "execute_result",
          "data": {
            "text/html": [
              "<div>\n",
              "<style scoped>\n",
              "    .dataframe tbody tr th:only-of-type {\n",
              "        vertical-align: middle;\n",
              "    }\n",
              "\n",
              "    .dataframe tbody tr th {\n",
              "        vertical-align: top;\n",
              "    }\n",
              "\n",
              "    .dataframe thead th {\n",
              "        text-align: right;\n",
              "    }\n",
              "</style>\n",
              "<table border=\"1\" class=\"dataframe\">\n",
              "  <thead>\n",
              "    <tr style=\"text-align: right;\">\n",
              "      <th></th>\n",
              "      <th>track_name</th>\n",
              "      <th>rating_count_tot</th>\n",
              "      <th>user_rating</th>\n",
              "    </tr>\n",
              "  </thead>\n",
              "  <tbody>\n",
              "    <tr>\n",
              "      <td>348</td>\n",
              "      <td>Fruit Ninja Classic</td>\n",
              "      <td>698516</td>\n",
              "      <td>4.5</td>\n",
              "    </tr>\n",
              "    <tr>\n",
              "      <td>1182</td>\n",
              "      <td>Clear Vision (17+)</td>\n",
              "      <td>541693</td>\n",
              "      <td>4.5</td>\n",
              "    </tr>\n",
              "    <tr>\n",
              "      <td>1052</td>\n",
              "      <td>Minecraft: Pocket Edition</td>\n",
              "      <td>522012</td>\n",
              "      <td>4.5</td>\n",
              "    </tr>\n",
              "    <tr>\n",
              "      <td>302</td>\n",
              "      <td>Plants vs. Zombies</td>\n",
              "      <td>426463</td>\n",
              "      <td>5.0</td>\n",
              "    </tr>\n",
              "    <tr>\n",
              "      <td>109</td>\n",
              "      <td>Doodle Jump</td>\n",
              "      <td>395261</td>\n",
              "      <td>4.5</td>\n",
              "    </tr>\n",
              "    <tr>\n",
              "      <td>1114</td>\n",
              "      <td>Draw Something</td>\n",
              "      <td>360974</td>\n",
              "      <td>4.5</td>\n",
              "    </tr>\n",
              "    <tr>\n",
              "      <td>498</td>\n",
              "      <td>Infinity Blade</td>\n",
              "      <td>326482</td>\n",
              "      <td>5.0</td>\n",
              "    </tr>\n",
              "    <tr>\n",
              "      <td>1877</td>\n",
              "      <td>Geometry Dash</td>\n",
              "      <td>266440</td>\n",
              "      <td>5.0</td>\n",
              "    </tr>\n",
              "    <tr>\n",
              "      <td>698</td>\n",
              "      <td>Tiny Wings</td>\n",
              "      <td>219418</td>\n",
              "      <td>4.5</td>\n",
              "    </tr>\n",
              "    <tr>\n",
              "      <td>171</td>\n",
              "      <td>Traffic Rush</td>\n",
              "      <td>213092</td>\n",
              "      <td>3.5</td>\n",
              "    </tr>\n",
              "    <tr>\n",
              "      <td>350</td>\n",
              "      <td>Plants vs. Zombies HD</td>\n",
              "      <td>163598</td>\n",
              "      <td>5.0</td>\n",
              "    </tr>\n",
              "    <tr>\n",
              "      <td>877</td>\n",
              "      <td>Infinity Blade II</td>\n",
              "      <td>153588</td>\n",
              "      <td>4.5</td>\n",
              "    </tr>\n",
              "    <tr>\n",
              "      <td>1484</td>\n",
              "      <td>The Room</td>\n",
              "      <td>143908</td>\n",
              "      <td>5.0</td>\n",
              "    </tr>\n",
              "    <tr>\n",
              "      <td>1322</td>\n",
              "      <td>Plague Inc.</td>\n",
              "      <td>143285</td>\n",
              "      <td>4.5</td>\n",
              "    </tr>\n",
              "    <tr>\n",
              "      <td>885</td>\n",
              "      <td>Where's My Water?</td>\n",
              "      <td>131656</td>\n",
              "      <td>4.5</td>\n",
              "    </tr>\n",
              "    <tr>\n",
              "      <td>999</td>\n",
              "      <td>Call of Duty: Black Ops Zombies</td>\n",
              "      <td>116601</td>\n",
              "      <td>4.5</td>\n",
              "    </tr>\n",
              "    <tr>\n",
              "      <td>138</td>\n",
              "      <td>Sunday Lawn</td>\n",
              "      <td>107727</td>\n",
              "      <td>3.5</td>\n",
              "    </tr>\n",
              "    <tr>\n",
              "      <td>11</td>\n",
              "      <td>SCRABBLE Premium</td>\n",
              "      <td>105776</td>\n",
              "      <td>3.5</td>\n",
              "    </tr>\n",
              "  </tbody>\n",
              "</table>\n",
              "</div>"
            ],
            "text/plain": [
              "                           track_name  rating_count_tot  user_rating\n",
              "348               Fruit Ninja Classic            698516          4.5\n",
              "1182               Clear Vision (17+)            541693          4.5\n",
              "1052        Minecraft: Pocket Edition            522012          4.5\n",
              "302                Plants vs. Zombies            426463          5.0\n",
              "109                       Doodle Jump            395261          4.5\n",
              "1114                   Draw Something            360974          4.5\n",
              "498                    Infinity Blade            326482          5.0\n",
              "1877                    Geometry Dash            266440          5.0\n",
              "698                        Tiny Wings            219418          4.5\n",
              "171                      Traffic Rush            213092          3.5\n",
              "350             Plants vs. Zombies HD            163598          5.0\n",
              "877                 Infinity Blade II            153588          4.5\n",
              "1484                         The Room            143908          5.0\n",
              "1322                      Plague Inc.            143285          4.5\n",
              "885                 Where's My Water?            131656          4.5\n",
              "999   Call of Duty: Black Ops Zombies            116601          4.5\n",
              "138                       Sunday Lawn            107727          3.5\n",
              "11                   SCRABBLE Premium            105776          3.5"
            ]
          },
          "metadata": {
            "tags": []
          },
          "execution_count": 23
        }
      ]
    },
    {
      "cell_type": "code",
      "metadata": {
        "id": "0veAITT0wjZz",
        "outputId": "4ccacad9-3116-4eae-9d6c-d18c5537ac7d"
      },
      "source": [
        "df[(df.rating_count_tot > 100000)& (df.prime_genre == 'Games') & (df.price == 0)][['track_name','rating_count_tot','user_rating']].sort_values('rating_count_tot', ascending=0).head(25)"
      ],
      "execution_count": null,
      "outputs": [
        {
          "output_type": "execute_result",
          "data": {
            "text/html": [
              "<div>\n",
              "<style scoped>\n",
              "    .dataframe tbody tr th:only-of-type {\n",
              "        vertical-align: middle;\n",
              "    }\n",
              "\n",
              "    .dataframe tbody tr th {\n",
              "        vertical-align: top;\n",
              "    }\n",
              "\n",
              "    .dataframe thead th {\n",
              "        text-align: right;\n",
              "    }\n",
              "</style>\n",
              "<table border=\"1\" class=\"dataframe\">\n",
              "  <thead>\n",
              "    <tr style=\"text-align: right;\">\n",
              "      <th></th>\n",
              "      <th>track_name</th>\n",
              "      <th>rating_count_tot</th>\n",
              "      <th>user_rating</th>\n",
              "    </tr>\n",
              "  </thead>\n",
              "  <tbody>\n",
              "    <tr>\n",
              "      <td>1346</td>\n",
              "      <td>Clash of Clans</td>\n",
              "      <td>2130805</td>\n",
              "      <td>4.5</td>\n",
              "    </tr>\n",
              "    <tr>\n",
              "      <td>707</td>\n",
              "      <td>Temple Run</td>\n",
              "      <td>1724546</td>\n",
              "      <td>4.5</td>\n",
              "    </tr>\n",
              "    <tr>\n",
              "      <td>1493</td>\n",
              "      <td>Candy Crush Saga</td>\n",
              "      <td>961794</td>\n",
              "      <td>4.5</td>\n",
              "    </tr>\n",
              "    <tr>\n",
              "      <td>275</td>\n",
              "      <td>Angry Birds</td>\n",
              "      <td>824451</td>\n",
              "      <td>4.5</td>\n",
              "    </tr>\n",
              "    <tr>\n",
              "      <td>1246</td>\n",
              "      <td>Subway Surfers</td>\n",
              "      <td>706110</td>\n",
              "      <td>4.5</td>\n",
              "    </tr>\n",
              "    <tr>\n",
              "      <td>343</td>\n",
              "      <td>Solitaire</td>\n",
              "      <td>679055</td>\n",
              "      <td>4.5</td>\n",
              "    </tr>\n",
              "    <tr>\n",
              "      <td>990</td>\n",
              "      <td>CSR Racing</td>\n",
              "      <td>677247</td>\n",
              "      <td>4.5</td>\n",
              "    </tr>\n",
              "    <tr>\n",
              "      <td>3042</td>\n",
              "      <td>Crossy Road - Endless Arcade Hopper</td>\n",
              "      <td>669079</td>\n",
              "      <td>4.5</td>\n",
              "    </tr>\n",
              "    <tr>\n",
              "      <td>1634</td>\n",
              "      <td>Injustice: Gods Among Us</td>\n",
              "      <td>612532</td>\n",
              "      <td>4.5</td>\n",
              "    </tr>\n",
              "    <tr>\n",
              "      <td>1218</td>\n",
              "      <td>Hay Day</td>\n",
              "      <td>567344</td>\n",
              "      <td>4.5</td>\n",
              "    </tr>\n",
              "    <tr>\n",
              "      <td>47</td>\n",
              "      <td>PAC-MAN</td>\n",
              "      <td>508808</td>\n",
              "      <td>3.0</td>\n",
              "    </tr>\n",
              "    <tr>\n",
              "      <td>829</td>\n",
              "      <td>DragonVale</td>\n",
              "      <td>503230</td>\n",
              "      <td>4.5</td>\n",
              "    </tr>\n",
              "    <tr>\n",
              "      <td>1104</td>\n",
              "      <td>Head Soccer</td>\n",
              "      <td>481564</td>\n",
              "      <td>5.0</td>\n",
              "    </tr>\n",
              "    <tr>\n",
              "      <td>1775</td>\n",
              "      <td>Despicable Me: Minion Rush</td>\n",
              "      <td>464312</td>\n",
              "      <td>4.5</td>\n",
              "    </tr>\n",
              "    <tr>\n",
              "      <td>971</td>\n",
              "      <td>The Sims™ FreePlay</td>\n",
              "      <td>446880</td>\n",
              "      <td>4.5</td>\n",
              "    </tr>\n",
              "    <tr>\n",
              "      <td>1676</td>\n",
              "      <td>Sonic Dash</td>\n",
              "      <td>418033</td>\n",
              "      <td>4.5</td>\n",
              "    </tr>\n",
              "    <tr>\n",
              "      <td>1429</td>\n",
              "      <td>8 Ball Pool™</td>\n",
              "      <td>416736</td>\n",
              "      <td>4.5</td>\n",
              "    </tr>\n",
              "    <tr>\n",
              "      <td>719</td>\n",
              "      <td>Tiny Tower - Free City Building</td>\n",
              "      <td>414803</td>\n",
              "      <td>4.5</td>\n",
              "    </tr>\n",
              "    <tr>\n",
              "      <td>925</td>\n",
              "      <td>Jetpack Joyride</td>\n",
              "      <td>405647</td>\n",
              "      <td>4.5</td>\n",
              "    </tr>\n",
              "    <tr>\n",
              "      <td>1234</td>\n",
              "      <td>Bike Race - Top Motorcycle Racing Games</td>\n",
              "      <td>405007</td>\n",
              "      <td>4.5</td>\n",
              "    </tr>\n",
              "    <tr>\n",
              "      <td>2602</td>\n",
              "      <td>Kim Kardashian: Hollywood</td>\n",
              "      <td>397730</td>\n",
              "      <td>4.5</td>\n",
              "    </tr>\n",
              "    <tr>\n",
              "      <td>1993</td>\n",
              "      <td>Trivia Crack</td>\n",
              "      <td>393469</td>\n",
              "      <td>4.5</td>\n",
              "    </tr>\n",
              "    <tr>\n",
              "      <td>2199</td>\n",
              "      <td>WordBrain</td>\n",
              "      <td>391401</td>\n",
              "      <td>4.5</td>\n",
              "    </tr>\n",
              "    <tr>\n",
              "      <td>3086</td>\n",
              "      <td>Sniper 3D Assassin: Shoot to Kill Gun Game</td>\n",
              "      <td>386521</td>\n",
              "      <td>5.0</td>\n",
              "    </tr>\n",
              "    <tr>\n",
              "      <td>1327</td>\n",
              "      <td>Flow Free</td>\n",
              "      <td>373857</td>\n",
              "      <td>4.5</td>\n",
              "    </tr>\n",
              "  </tbody>\n",
              "</table>\n",
              "</div>"
            ],
            "text/plain": [
              "                                      track_name  rating_count_tot  \\\n",
              "1346                              Clash of Clans           2130805   \n",
              "707                                   Temple Run           1724546   \n",
              "1493                            Candy Crush Saga            961794   \n",
              "275                                  Angry Birds            824451   \n",
              "1246                              Subway Surfers            706110   \n",
              "343                                    Solitaire            679055   \n",
              "990                                   CSR Racing            677247   \n",
              "3042         Crossy Road - Endless Arcade Hopper            669079   \n",
              "1634                    Injustice: Gods Among Us            612532   \n",
              "1218                                     Hay Day            567344   \n",
              "47                                       PAC-MAN            508808   \n",
              "829                                   DragonVale            503230   \n",
              "1104                                 Head Soccer            481564   \n",
              "1775                  Despicable Me: Minion Rush            464312   \n",
              "971                           The Sims™ FreePlay            446880   \n",
              "1676                                  Sonic Dash            418033   \n",
              "1429                                8 Ball Pool™            416736   \n",
              "719              Tiny Tower - Free City Building            414803   \n",
              "925                              Jetpack Joyride            405647   \n",
              "1234     Bike Race - Top Motorcycle Racing Games            405007   \n",
              "2602                   Kim Kardashian: Hollywood            397730   \n",
              "1993                                Trivia Crack            393469   \n",
              "2199                                   WordBrain            391401   \n",
              "3086  Sniper 3D Assassin: Shoot to Kill Gun Game            386521   \n",
              "1327                                   Flow Free            373857   \n",
              "\n",
              "      user_rating  \n",
              "1346          4.5  \n",
              "707           4.5  \n",
              "1493          4.5  \n",
              "275           4.5  \n",
              "1246          4.5  \n",
              "343           4.5  \n",
              "990           4.5  \n",
              "3042          4.5  \n",
              "1634          4.5  \n",
              "1218          4.5  \n",
              "47            3.0  \n",
              "829           4.5  \n",
              "1104          5.0  \n",
              "1775          4.5  \n",
              "971           4.5  \n",
              "1676          4.5  \n",
              "1429          4.5  \n",
              "719           4.5  \n",
              "925           4.5  \n",
              "1234          4.5  \n",
              "2602          4.5  \n",
              "1993          4.5  \n",
              "2199          4.5  \n",
              "3086          5.0  \n",
              "1327          4.5  "
            ]
          },
          "metadata": {
            "tags": []
          },
          "execution_count": 22
        }
      ]
    },
    {
      "cell_type": "code",
      "metadata": {
        "id": "gtOM8kbZwjZ0",
        "outputId": "75849a6d-91d3-4a26-db1c-841cd69b5ab8"
      },
      "source": [
        "df[(df.rating_count_tot > 10000) & (df.prime_genre == 'Education')][['track_name','rating_count_tot','user_rating']].sort_values('rating_count_tot', ascending=0).head(25)"
      ],
      "execution_count": null,
      "outputs": [
        {
          "output_type": "execute_result",
          "data": {
            "text/html": [
              "<div>\n",
              "<style scoped>\n",
              "    .dataframe tbody tr th:only-of-type {\n",
              "        vertical-align: middle;\n",
              "    }\n",
              "\n",
              "    .dataframe tbody tr th {\n",
              "        vertical-align: top;\n",
              "    }\n",
              "\n",
              "    .dataframe thead th {\n",
              "        text-align: right;\n",
              "    }\n",
              "</style>\n",
              "<table border=\"1\" class=\"dataframe\">\n",
              "  <thead>\n",
              "    <tr style=\"text-align: right;\">\n",
              "      <th></th>\n",
              "      <th>track_name</th>\n",
              "      <th>rating_count_tot</th>\n",
              "      <th>user_rating</th>\n",
              "    </tr>\n",
              "  </thead>\n",
              "  <tbody>\n",
              "    <tr>\n",
              "      <td>1597</td>\n",
              "      <td>Duolingo - Learn Spanish, French and more</td>\n",
              "      <td>162701</td>\n",
              "      <td>4.5</td>\n",
              "    </tr>\n",
              "    <tr>\n",
              "      <td>154</td>\n",
              "      <td>Guess My Age  Math Magic</td>\n",
              "      <td>123190</td>\n",
              "      <td>3.0</td>\n",
              "    </tr>\n",
              "    <tr>\n",
              "      <td>1644</td>\n",
              "      <td>Lumosity - Brain Training</td>\n",
              "      <td>96534</td>\n",
              "      <td>4.5</td>\n",
              "    </tr>\n",
              "    <tr>\n",
              "      <td>2655</td>\n",
              "      <td>Elevate - Brain Training and Games</td>\n",
              "      <td>58092</td>\n",
              "      <td>5.0</td>\n",
              "    </tr>\n",
              "    <tr>\n",
              "      <td>1566</td>\n",
              "      <td>Fit Brains Trainer</td>\n",
              "      <td>46363</td>\n",
              "      <td>4.5</td>\n",
              "    </tr>\n",
              "    <tr>\n",
              "      <td>1488</td>\n",
              "      <td>ClassDojo</td>\n",
              "      <td>35440</td>\n",
              "      <td>4.5</td>\n",
              "    </tr>\n",
              "    <tr>\n",
              "      <td>1596</td>\n",
              "      <td>Toca Hair Salon 2</td>\n",
              "      <td>23349</td>\n",
              "      <td>4.5</td>\n",
              "    </tr>\n",
              "    <tr>\n",
              "      <td>1920</td>\n",
              "      <td>Memrise: learn languages</td>\n",
              "      <td>20383</td>\n",
              "      <td>5.0</td>\n",
              "    </tr>\n",
              "    <tr>\n",
              "      <td>2457</td>\n",
              "      <td>Peak - Brain Training</td>\n",
              "      <td>20322</td>\n",
              "      <td>4.5</td>\n",
              "    </tr>\n",
              "    <tr>\n",
              "      <td>1066</td>\n",
              "      <td>Canvas by Instructure</td>\n",
              "      <td>19981</td>\n",
              "      <td>4.5</td>\n",
              "    </tr>\n",
              "    <tr>\n",
              "      <td>1708</td>\n",
              "      <td>ABCmouse.com - Early Learning Academy</td>\n",
              "      <td>18749</td>\n",
              "      <td>4.5</td>\n",
              "    </tr>\n",
              "    <tr>\n",
              "      <td>1450</td>\n",
              "      <td>Quizlet: Study Flashcards, Languages &amp; Vocabulary</td>\n",
              "      <td>16683</td>\n",
              "      <td>4.5</td>\n",
              "    </tr>\n",
              "    <tr>\n",
              "      <td>3002</td>\n",
              "      <td>Photomath - Camera Calculator</td>\n",
              "      <td>16523</td>\n",
              "      <td>4.5</td>\n",
              "    </tr>\n",
              "    <tr>\n",
              "      <td>1125</td>\n",
              "      <td>iTunes U</td>\n",
              "      <td>15801</td>\n",
              "      <td>4.0</td>\n",
              "    </tr>\n",
              "    <tr>\n",
              "      <td>437</td>\n",
              "      <td>Blackboard Mobile Learn™</td>\n",
              "      <td>13567</td>\n",
              "      <td>2.0</td>\n",
              "    </tr>\n",
              "    <tr>\n",
              "      <td>284</td>\n",
              "      <td>Star Chart</td>\n",
              "      <td>13482</td>\n",
              "      <td>4.5</td>\n",
              "    </tr>\n",
              "    <tr>\n",
              "      <td>466</td>\n",
              "      <td>Stack the States®</td>\n",
              "      <td>12833</td>\n",
              "      <td>4.5</td>\n",
              "    </tr>\n",
              "    <tr>\n",
              "      <td>1746</td>\n",
              "      <td>Endless Alphabet</td>\n",
              "      <td>10534</td>\n",
              "      <td>5.0</td>\n",
              "    </tr>\n",
              "  </tbody>\n",
              "</table>\n",
              "</div>"
            ],
            "text/plain": [
              "                                             track_name  rating_count_tot  \\\n",
              "1597          Duolingo - Learn Spanish, French and more            162701   \n",
              "154                           Guess My Age  Math Magic            123190   \n",
              "1644                          Lumosity - Brain Training             96534   \n",
              "2655                 Elevate - Brain Training and Games             58092   \n",
              "1566                                 Fit Brains Trainer             46363   \n",
              "1488                                          ClassDojo             35440   \n",
              "1596                                  Toca Hair Salon 2             23349   \n",
              "1920                           Memrise: learn languages             20383   \n",
              "2457                              Peak - Brain Training             20322   \n",
              "1066                              Canvas by Instructure             19981   \n",
              "1708              ABCmouse.com - Early Learning Academy             18749   \n",
              "1450  Quizlet: Study Flashcards, Languages & Vocabulary             16683   \n",
              "3002                      Photomath - Camera Calculator             16523   \n",
              "1125                                           iTunes U             15801   \n",
              "437                            Blackboard Mobile Learn™             13567   \n",
              "284                                          Star Chart             13482   \n",
              "466                                   Stack the States®             12833   \n",
              "1746                                   Endless Alphabet             10534   \n",
              "\n",
              "      user_rating  \n",
              "1597          4.5  \n",
              "154           3.0  \n",
              "1644          4.5  \n",
              "2655          5.0  \n",
              "1566          4.5  \n",
              "1488          4.5  \n",
              "1596          4.5  \n",
              "1920          5.0  \n",
              "2457          4.5  \n",
              "1066          4.5  \n",
              "1708          4.5  \n",
              "1450          4.5  \n",
              "3002          4.5  \n",
              "1125          4.0  \n",
              "437           2.0  \n",
              "284           4.5  \n",
              "466           4.5  \n",
              "1746          5.0  "
            ]
          },
          "metadata": {
            "tags": []
          },
          "execution_count": 24
        }
      ]
    },
    {
      "cell_type": "code",
      "metadata": {
        "id": "f3PpNZy1wjZ2",
        "outputId": "bcb010dd-4497-493b-f549-870e86e9ec9b"
      },
      "source": [
        "gratuit_app = df[df.price == 0].track_name.count()\n",
        "payante_app = df[df.price >0].track_name.count()\n",
        "print('nombre total des applications gratuites =', gratuit_app)\n",
        "print('nombre total des applications payantes=', payante_app)\n",
        "apps = {'applications payantes' : [gratuit_app],'applications gratuites' : [payante_app]}\n",
        "df_apps = pd.DataFrame.from_dict(apps)\n",
        "df_apps.plot(kind='bar', colormap='Greens')"
      ],
      "execution_count": null,
      "outputs": [
        {
          "output_type": "stream",
          "text": [
            "nombre total des applications gratuites = 4056\n",
            "nombre total des applications payantes= 3141\n"
          ],
          "name": "stdout"
        },
        {
          "output_type": "execute_result",
          "data": {
            "text/plain": [
              "<matplotlib.axes._subplots.AxesSubplot at 0x22def23fb88>"
            ]
          },
          "metadata": {
            "tags": []
          },
          "execution_count": 29
        },
        {
          "output_type": "display_data",
          "data": {
            "image/png": "[encoded data removed]",
            "text/plain": [
              "<Figure size 432x288 with 1 Axes>"
            ]
          },
          "metadata": {
            "tags": []
          }
        }
      ]
    },
    {
      "cell_type": "code",
      "metadata": {
        "id": "xy2fA_vewjZ3",
        "outputId": "eb9e6f60-26db-4e22-a4b1-f36bd14d59e1"
      },
      "source": [
        "df.sort_values('prime_genre')\n",
        "freq = df['prime_genre'].value_counts()[0:4]\n",
        "labels = list(freq.index)\n",
        "labels.append('Other')\n",
        "freq = list(freq)\n",
        "freq.append(len(df['prime_genre'])-sum(freq))\n",
        "plt.style.use('seaborn-white')\n",
        "plt.pie(freq,labels=labels)\n",
        "_ = plt.title('genre des applications')"
      ],
      "execution_count": null,
      "outputs": [
        {
          "output_type": "display_data",
          "data": {
            "image/png": "[encoded data removed]",
            "text/plain": [
              "<Figure size 432x288 with 1 Axes>"
            ]
          },
          "metadata": {
            "tags": []
          }
        }
      ]
    },
    {
      "cell_type": "code",
      "metadata": {
        "id": "gbsvN5rHwjZ4",
        "outputId": "da0b6acc-2482-4a69-c9b1-12e2587b7ed2"
      },
      "source": [
        "bins = (0,0.5,1,1.5,2,2.5,3,3.5,4,4.5,5,5.5)\n",
        "plt.style.use('seaborn-white')\n",
        "plt.hist(df[df['cont_rating']=='17+']['user_rating'],alpha=.8,bins=bins,color='orange')\n",
        "plt.xticks((0,1,2,3,4,5))\n",
        "plt.title('evaluation des utilisateurs 17+')\n",
        "plt.xlabel('evalution')\n",
        "plt.ylabel('Frequence')\n",
        "_ = plt.xlim(right=5.5)"
      ],
      "execution_count": null,
      "outputs": [
        {
          "output_type": "display_data",
          "data": {
            "image/png": "[encoded data removed]",
            "text/plain": [
              "<Figure size 432x288 with 1 Axes>"
            ]
          },
          "metadata": {
            "tags": []
          }
        }
      ]
    },
    {
      "cell_type": "code",
      "metadata": {
        "id": "EffNZjwdwjZ5",
        "outputId": "441d4968-b6fc-4a14-d976-a633cda824c9"
      },
      "source": [
        "bins = (0,0.5,1,1.5,2,2.5,3,3.5,4,4.5,5,5.5)\n",
        "plt.style.use('seaborn-white')\n",
        "plt.hist(df[df['cont_rating']=='4+']['user_rating'],alpha=.8,bins=bins,color='purple')\n",
        "plt.xticks((0,1,2,3,4,5))\n",
        "plt.title('evaluation des utilisateurs 4+')\n",
        "plt.xlabel('evaluation')\n",
        "plt.ylabel('Frequence')\n",
        "_ = plt.xlim(right=5.5)\n"
      ],
      "execution_count": null,
      "outputs": [
        {
          "output_type": "display_data",
          "data": {
            "image/png": "[encoded data removed]",
            "text/plain": [
              "<Figure size 432x288 with 1 Axes>"
            ]
          },
          "metadata": {
            "tags": []
          }
        }
      ]
    },
    {
      "cell_type": "code",
      "metadata": {
        "id": "TDA5GXBXwjZ6",
        "outputId": "57ad3ff4-23a0-4e32-9d26-2d46c4b9f97c"
      },
      "source": [
        "df[(df.user_rating < 2.5)& (df.rating_count_tot > 100)& (df.prime_genre == 'Games')][['track_name','rating_count_tot', 'user_rating']].sort_values('rating_count_tot', ascending=0)"
      ],
      "execution_count": null,
      "outputs": [
        {
          "output_type": "execute_result",
          "data": {
            "text/html": [
              "<div>\n",
              "<style scoped>\n",
              "    .dataframe tbody tr th:only-of-type {\n",
              "        vertical-align: middle;\n",
              "    }\n",
              "\n",
              "    .dataframe tbody tr th {\n",
              "        vertical-align: top;\n",
              "    }\n",
              "\n",
              "    .dataframe thead th {\n",
              "        text-align: right;\n",
              "    }\n",
              "</style>\n",
              "<table border=\"1\" class=\"dataframe\">\n",
              "  <thead>\n",
              "    <tr style=\"text-align: right;\">\n",
              "      <th></th>\n",
              "      <th>track_name</th>\n",
              "      <th>rating_count_tot</th>\n",
              "      <th>user_rating</th>\n",
              "    </tr>\n",
              "  </thead>\n",
              "  <tbody>\n",
              "    <tr>\n",
              "      <td>86</td>\n",
              "      <td>Beer Pong Game</td>\n",
              "      <td>187315</td>\n",
              "      <td>2.0</td>\n",
              "    </tr>\n",
              "    <tr>\n",
              "      <td>5300</td>\n",
              "      <td>Simulator Hoverboard</td>\n",
              "      <td>2198</td>\n",
              "      <td>2.0</td>\n",
              "    </tr>\n",
              "    <tr>\n",
              "      <td>4789</td>\n",
              "      <td>Simulator Run Real Hologram</td>\n",
              "      <td>903</td>\n",
              "      <td>1.5</td>\n",
              "    </tr>\n",
              "    <tr>\n",
              "      <td>1508</td>\n",
              "      <td>Clue Solver - for Clue or Cluedo board games</td>\n",
              "      <td>185</td>\n",
              "      <td>1.5</td>\n",
              "    </tr>\n",
              "  </tbody>\n",
              "</table>\n",
              "</div>"
            ],
            "text/plain": [
              "                                        track_name  rating_count_tot  \\\n",
              "86                                  Beer Pong Game            187315   \n",
              "5300                          Simulator Hoverboard              2198   \n",
              "4789                   Simulator Run Real Hologram               903   \n",
              "1508  Clue Solver - for Clue or Cluedo board games               185   \n",
              "\n",
              "      user_rating  \n",
              "86            2.0  \n",
              "5300          2.0  \n",
              "4789          1.5  \n",
              "1508          1.5  "
            ]
          },
          "metadata": {
            "tags": []
          },
          "execution_count": 36
        }
      ]
    },
    {
      "cell_type": "code",
      "metadata": {
        "id": "QV8L0hpgwjZ7"
      },
      "source": [
        "import seaborn as sns"
      ],
      "execution_count": null,
      "outputs": []
    },
    {
      "cell_type": "code",
      "metadata": {
        "id": "_VSpv9IgwjZ8",
        "outputId": "d699fc0b-bff4-4e4e-b7c3-9dd6595af8c2"
      },
      "source": [
        "plt.figure(figsize=(13,8))\n",
        "sns.set_style(\"darkgrid\")\n",
        "sns.countplot(y=df.prime_genre, linewidth=1, edgecolor=\"k\"*len(df), palette='Spectral') \n",
        "plt.grid(True)\n",
        "plt.xticks(rotation=10)\n",
        "plt.xlabel('Nombre des applications', fontsize=15, color='#191950')\n",
        "plt.ylabel('Genre', fontsize=15, color='#191874')\n",
        "plt.show()"
      ],
      "execution_count": null,
      "outputs": [
        {
          "output_type": "display_data",
          "data": {
            "image/png": "[encoded data removed]",
            "text/plain": [
              "<Figure size 936x576 with 1 Axes>"
            ]
          },
          "metadata": {
            "tags": []
          }
        }
      ]
    },
    {
      "cell_type": "code",
      "metadata": {
        "id": "aVPf4q_6wjZ9",
        "outputId": "4f921631-71c1-4b55-bf64-5a09d07b70c3"
      },
      "source": [
        "sns.set_style('white')\n",
        "sns.violinplot(x=df[df['price']==0.00]['user_rating'],color='purple')\n",
        "plt.xlim(0,5)\n",
        "plt.xlabel('evalution de 0 a 5 etoiles')\n",
        "_ = plt.title('Distribution des applications evaluees (gratuit)')\n"
      ],
      "execution_count": null,
      "outputs": [
        {
          "output_type": "display_data",
          "data": {
            "image/png": "[encoded data removed]",
            "text/plain": [
              "<Figure size 432x288 with 1 Axes>"
            ]
          },
          "metadata": {
            "tags": []
          }
        }
      ]
    },
    {
      "cell_type": "code",
      "metadata": {
        "id": "PtFpM5SBwjZ-",
        "outputId": "bc6a5ec2-f7b9-45c3-8f93-419fbe57af93"
      },
      "source": [
        "sns.set_style('white')\n",
        "sns.violinplot(x=df[df['price']>=15]['user_rating'],color='yellow')\n",
        "plt.xlim(0,5)\n",
        "plt.xlabel('evalution de 0 a 5 etoiles')\n",
        "_ = plt.title('Distribution des applications evaluees $15+')\n"
      ],
      "execution_count": null,
      "outputs": [
        {
          "output_type": "display_data",
          "data": {
            "image/png": "[encoded data removed]",
            "text/plain": [
              "<Figure size 432x288 with 1 Axes>"
            ]
          },
          "metadata": {
            "tags": []
          }
        }
      ]
    },
    {
      "cell_type": "code",
      "metadata": {
        "id": "HQ3mysxjwjZ_",
        "outputId": "35923c4c-388a-4eed-d1ed-cb96c2779137"
      },
      "source": [
        "sns.violinplot(x=df['user_rating'])\n",
        "plt.xlim(0,5)\n",
        "plt.xlabel('evalution de 0 a 5 etoiles')\n",
        "plt.title('Distribution de toutes le applications evaluess de App Store')\n",
        "_ = plt.style.use('seaborn-white')"
      ],
      "execution_count": null,
      "outputs": [
        {
          "output_type": "display_data",
          "data": {
            "image/png": "[encoded data removed]",
            "text/plain": [
              "<Figure size 432x288 with 1 Axes>"
            ]
          },
          "metadata": {
            "tags": []
          }
        }
      ]
    },
    {
      "cell_type": "code",
      "metadata": {
        "id": "g0q80_afwjZ_"
      },
      "source": [
        ""
      ],
      "execution_count": null,
      "outputs": []
    }
  ]
}